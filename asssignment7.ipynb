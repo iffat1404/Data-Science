{
 "cells": [
  {
   "cell_type": "code",
   "execution_count": 46,
   "id": "2fab4087-81fd-4db0-afad-4698f29acec1",
   "metadata": {},
   "outputs": [],
   "source": [
    "def func(a):\n",
    "    n=[]\n",
    "    for i in a :\n",
    "        if type(i)==list:\n",
    "            for j in i:\n",
    "                if type(j)==int or type(j)==float:\n",
    "                    n.append(j)\n",
    "        elif type(i)==dict:\n",
    "            for k in i:\n",
    "                if type(k)==int :\n",
    "                    n.append(k)\n",
    "                if type(i[k])==int:\n",
    "                    n.append(i[k])\n",
    "                if type(i[k])==list:\n",
    "                    for j in i:\n",
    "                        if type(j)==int:\n",
    "                            n.append(j)\n",
    "        else:\n",
    "            if type(i)==int or type(i)==float:\n",
    "                n.append(i)\n",
    "    print(n)\n",
    "    res=1\n",
    "    for a in n:\n",
    "        res=res*a\n",
    "    return res"
   ]
  },
  {
   "cell_type": "code",
   "execution_count": 47,
   "id": "47f8bc04-8814-43d5-82ca-14be7840a678",
   "metadata": {},
   "outputs": [],
   "source": [
    "list1 = [1,2,3,4, [44,55,66, True], False, (34,56,78,89,34), {1,2,3,3,2,1}, {1:34, \"key2\": [55, 67, 78, 89], 4: (45,\n",
    "22, 61, 34)}, [56, 'data science'], 'Machine Learning']"
   ]
  },
  {
   "cell_type": "code",
   "execution_count": 48,
   "id": "2c32f0eb-cf71-4a17-ad5b-0e0fa61093e7",
   "metadata": {},
   "outputs": [
    {
     "name": "stdout",
     "output_type": "stream",
     "text": [
      "[1, 2, 3, 4, 44, 55, 66, 1, 34, 1, 4, 4, 56]\n"
     ]
    },
    {
     "data": {
      "text/plain": [
       "116777041920"
      ]
     },
     "execution_count": 48,
     "metadata": {},
     "output_type": "execute_result"
    }
   ],
   "source": [
    "func(list1)"
   ]
  },
  {
   "cell_type": "code",
   "execution_count": null,
   "id": "9ef94ca4-1979-429f-a945-079b976f0082",
   "metadata": {},
   "outputs": [],
   "source": [
    "def encrypt_message(message):\n",
    "    \n",
    "    message = message.lower()\n",
    "    mapping = {'a': 'z', 'b': 'y', 'c': 'x', 'd': 'w', 'e': 'v', 'f': 'u', 'g': 't', 'h': 's', 'i': 'r', 'j': 'q', \n",
    "               'k': 'p', 'l': 'o', 'm': 'n', 'n': 'm', 'o': 'l', 'p': 'k', 'q': 'j', 'r': 'i', 's': 'h', 't': 'g', \n",
    "               'u': 'f', 'v': 'e', 'w': 'd', 'x': 'c', 'y': 'b', 'z': 'a', ' ': '$'}\n",
    "\n",
    "    encrypted_message = ''\n",
    "    for char in message:\n",
    "        if char in mapping:\n",
    "            encrypted_message += mapping[char]\n",
    "        else:\n",
    "            encrypted_message += char\n",
    "\n",
    "    return encrypted_message\n",
    "\n",
    "input_sentence = \"I want to become a Data Scientist.\"\n",
    "encrypted_sentence = encrypt_message(input_sentence)\n",
    "print(encrypted_sentence)\n"
   ]
  },
  {
   "cell_type": "markdown",
   "id": "152dc6e4-dead-4d97-b579-878bb0e6ef0d",
   "metadata": {},
   "source": [
    "Q2. Write a python program for encrypting a message sent to you by your friend. The logic of encryption\n",
    "should be such that, for a the output should be z. For b, the output should be y. For c, the output should\n",
    "be x respectively. Also, the whitespace should be replaced with a dollar sign. Keep the punctuation\n",
    "marks unchanged.\n",
    "Input Sentence: I want to become a Data Scientist.\n",
    "Encrypt the above input sentence using the program you just created.\n",
    "Note: Convert the given input sentence into lowercase before encrypting. The final output should be\n",
    "lowercase."
   ]
  },
  {
   "cell_type": "code",
   "execution_count": null,
   "id": "ccf0f7bd-90c9-4fb5-a880-d8e0cc59daaf",
   "metadata": {},
   "outputs": [],
   "source": []
  },
  {
   "cell_type": "code",
   "execution_count": null,
   "id": "5fb58186-1b4e-4412-86a1-27cd0c38d2da",
   "metadata": {},
   "outputs": [],
   "source": []
  }
 ],
 "metadata": {
  "kernelspec": {
   "display_name": "Python 3 (ipykernel)",
   "language": "python",
   "name": "python3"
  },
  "language_info": {
   "codemirror_mode": {
    "name": "ipython",
    "version": 3
   },
   "file_extension": ".py",
   "mimetype": "text/x-python",
   "name": "python",
   "nbconvert_exporter": "python",
   "pygments_lexer": "ipython3",
   "version": "3.10.8"
  }
 },
 "nbformat": 4,
 "nbformat_minor": 5
}
