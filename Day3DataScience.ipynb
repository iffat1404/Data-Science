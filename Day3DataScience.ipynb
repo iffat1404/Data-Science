{
 "cells": [
  {
   "cell_type": "code",
   "execution_count": 1,
   "id": "85cfc366-3ab2-4839-afd3-3f55b7e5cea8",
   "metadata": {},
   "outputs": [
    {
     "name": "stdout",
     "output_type": "stream",
     "text": [
      "105\n"
     ]
    }
   ],
   "source": [
    "sum = 0\n",
    "\n",
    "for i in range(1,100):\n",
    "\n",
    "    sum += i\n",
    "\n",
    "    if sum > 100:\n",
    "\n",
    "        break\n",
    "\n",
    "print(sum)"
   ]
  },
  {
   "cell_type": "markdown",
   "id": "a4bb02e7-a3f5-4afb-a88b-b06195015189",
   "metadata": {},
   "source": [
    "Equilateral Triangle"
   ]
  },
  {
   "cell_type": "code",
   "execution_count": 2,
   "id": "e7cd11da-b75d-4631-8241-6a6828114c90",
   "metadata": {},
   "outputs": [
    {
     "name": "stdout",
     "output_type": "stream",
     "text": [
      "*\n",
      "**\n",
      "***\n",
      "****\n",
      "*****\n",
      "******\n",
      "*******\n"
     ]
    }
   ],
   "source": [
    "for i in range(0,7):\n",
    "    for j in range(0,i+1):\n",
    "        print(\"*\",end=\"\")\n",
    "    print(\"\\r\")"
   ]
  },
  {
   "cell_type": "code",
   "execution_count": 33,
   "id": "b1e4227b-c8b1-4448-8107-6f1de6558f69",
   "metadata": {},
   "outputs": [
    {
     "name": "stdout",
     "output_type": "stream",
     "text": [
      "* * * \n",
      " * * \n",
      "  * \n"
     ]
    }
   ],
   "source": [
    "num = 3\n",
    "for i in range(num, 0, -1):\n",
    "    for j in range(0, num-i):\n",
    "        print(end=\" \")\n",
    "    for j in range(0, i):\n",
    "        print(\"*\", end=\" \")\n",
    "    \n",
    "    print()\n"
   ]
  },
  {
   "cell_type": "markdown",
   "id": "6974a1c2-b15e-4119-b521-a75d4398b8ed",
   "metadata": {},
   "source": [
    "### lst1=[1,2,3,4]\n",
    "lst2=[1,2,3,4]\n",
    "print(id(lst1))\n",
    "print(id(lst2))"
   ]
  },
  {
   "cell_type": "code",
   "execution_count": 8,
   "id": "a46e1452-4a3f-468f-afc1-129639fd630e",
   "metadata": {},
   "outputs": [
    {
     "name": "stdout",
     "output_type": "stream",
     "text": [
      "139803336016144\n"
     ]
    }
   ],
   "source": [
    "print(id(lst1[1]))"
   ]
  },
  {
   "cell_type": "code",
   "execution_count": 9,
   "id": "1d3c8bf5-33ff-4699-9997-71a64d8e422c",
   "metadata": {},
   "outputs": [
    {
     "name": "stdout",
     "output_type": "stream",
     "text": [
      "139803336016144\n"
     ]
    }
   ],
   "source": [
    "lst1=[1,2,3,4]\n",
    "lst2=[1,2,3,4]\n",
    "print(id(lst1[1]))"
   ]
  },
  {
   "cell_type": "code",
   "execution_count": 10,
   "id": "3b5d72d8-5c45-4f64-a9af-0375c5b1be26",
   "metadata": {},
   "outputs": [
    {
     "name": "stdout",
     "output_type": "stream",
     "text": [
      "Defined value of START = True\n",
      "Defined value of STOP = False \n",
      "\n",
      "Defined value of START = True\n",
      "Value of STOP by negating START= False \n",
      "\n",
      "Value of START by negating STOP = True\n",
      "Defined value of STOP = False \n",
      "\n"
     ]
    }
   ],
   "source": [
    "# Lets define two variables having boolean values True and False-\n",
    "START = True\n",
    "STOP = False\n",
    "\n",
    "# Print the values as it is\n",
    "print(f\"Defined value of START = {START}\")\n",
    "print(f\"Defined value of STOP = {STOP} \\n\")\n",
    "\n",
    "# if can also be written as - \n",
    "print(f\"Defined value of START = {START}\")\n",
    "print(f\"Value of STOP by negating START= {not START} \\n\")\n",
    "\n",
    "# alternatively -\n",
    "print(f\"Value of START by negating STOP = {not STOP}\")\n",
    "print(f\"Defined value of STOP = {STOP} \\n\")\n"
   ]
  },
  {
   "cell_type": "code",
   "execution_count": 1,
   "id": "c740ffdd-2ffa-4b32-8aeb-98ce994c6359",
   "metadata": {},
   "outputs": [
    {
     "name": "stdout",
     "output_type": "stream",
     "text": [
      "boolean value of no. -5.99 is True\n",
      "boolean value of no. 5.6 is True\n",
      "negation of -5.99 is False and negation of 5.6 is False\n"
     ]
    }
   ],
   "source": [
    "Some_negative_float = -5.99\n",
    "Some_positive_float = 5.6\n",
    "\n",
    "print(f\"boolean value of no. {Some_negative_float} is {bool(Some_negative_float)}\")\n",
    "print(f\"boolean value of no. {Some_positive_float} is {bool(Some_positive_float)}\")\n",
    "print(f\"negation of {Some_negative_float} is {not Some_negative_float} \\\n",
    "and negation of {Some_positive_float} is {not Some_positive_float}\")"
   ]
  },
  {
   "cell_type": "code",
   "execution_count": null,
   "id": "75f0c883-a44f-49f0-8fd5-187de3afff5e",
   "metadata": {},
   "outputs": [],
   "source": []
  }
 ],
 "metadata": {
  "kernelspec": {
   "display_name": "Python 3 (ipykernel)",
   "language": "python",
   "name": "python3"
  },
  "language_info": {
   "codemirror_mode": {
    "name": "ipython",
    "version": 3
   },
   "file_extension": ".py",
   "mimetype": "text/x-python",
   "name": "python",
   "nbconvert_exporter": "python",
   "pygments_lexer": "ipython3",
   "version": "3.10.8"
  }
 },
 "nbformat": 4,
 "nbformat_minor": 5
}
