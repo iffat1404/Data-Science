{
 "cells": [
  {
   "cell_type": "markdown",
   "id": "ee78566d-3eeb-4b6b-ac69-f88b5d94b132",
   "metadata": {},
   "source": [
    "Tuples are immutable, they are indexed, The first index is 0."
   ]
  },
  {
   "cell_type": "markdown",
   "id": "94d05c5b-de80-40af-b97f-79af278dcc9b",
   "metadata": {},
   "source": [
    "The two methods for tuples are count and index. There may be only two methods in tuple as we cannot change the elements in tuple whereas lists are mutable."
   ]
  },
  {
   "cell_type": "code",
   "execution_count": 1,
   "id": "da0001d0-82ac-4f90-9ae5-5312e9c5b3b8",
   "metadata": {},
   "outputs": [],
   "source": [
    "t1=(2,89,45,4+2j,\"YES\")"
   ]
  },
  {
   "cell_type": "code",
   "execution_count": 2,
   "id": "9bc56dbb-01c5-46a0-af22-5a47279c6316",
   "metadata": {},
   "outputs": [
    {
     "data": {
      "text/plain": [
       "(2, 89, 45, (4+2j), 'YES')"
      ]
     },
     "execution_count": 2,
     "metadata": {},
     "output_type": "execute_result"
    }
   ],
   "source": [
    "t1"
   ]
  },
  {
   "cell_type": "code",
   "execution_count": 3,
   "id": "72314b48-c6ae-432d-aec6-9c8ac0bbf21c",
   "metadata": {},
   "outputs": [
    {
     "data": {
      "text/plain": [
       "1"
      ]
     },
     "execution_count": 3,
     "metadata": {},
     "output_type": "execute_result"
    }
   ],
   "source": [
    "t1.count(2)"
   ]
  },
  {
   "cell_type": "code",
   "execution_count": 4,
   "id": "4ec04985-65ba-41b0-b434-389cc870a2c4",
   "metadata": {},
   "outputs": [
    {
     "data": {
      "text/plain": [
       "2"
      ]
     },
     "execution_count": 4,
     "metadata": {},
     "output_type": "execute_result"
    }
   ],
   "source": [
    "t1.index(45)"
   ]
  },
  {
   "cell_type": "markdown",
   "id": "08100d44-05db-4bf0-bbc8-17a375ae908f",
   "metadata": {},
   "source": [
    "Which collection datatypes in python do not allow duplicate items? Write a code using a set to remove\n",
    "duplicates from the given list.\n",
    "\n",
    "Sets are the datatype which do not allow duplicate items. "
   ]
  },
  {
   "cell_type": "code",
   "execution_count": 7,
   "id": "1f3c9ee0-e7e4-411f-801f-64c6c2b03a79",
   "metadata": {},
   "outputs": [
    {
     "name": "stdout",
     "output_type": "stream",
     "text": [
      "[1, 2, 3, 4]\n"
     ]
    }
   ],
   "source": [
    "List = [1, 1, 1, 2, 1, 3, 1, 4, 2, 1, 2, 2, 2, 3, 2, 4, 3, 1, 3, 2, 3, 3, 3, 4, 4, 1, 4, 2, 4, 3, 4, 4]\n",
    "u = set(List)\n",
    "nlist = list(u)\n",
    "print(nlist)"
   ]
  },
  {
   "cell_type": "markdown",
   "id": "5c161bfc-6420-433d-a477-e347c08b5362",
   "metadata": {},
   "source": [
    "Q4. Explain the difference between the union() and update() methods for a set. Give an example of\n",
    "each method.\n",
    "\n",
    "Both are used for adding sets, but the difference is union adds the set elements in a new set whereas updatee add in the existing set."
   ]
  },
  {
   "cell_type": "code",
   "execution_count": 8,
   "id": "fffb10cd-98ac-4ed3-b461-0f445365c1c7",
   "metadata": {},
   "outputs": [
    {
     "name": "stdout",
     "output_type": "stream",
     "text": [
      "{1, 2, 3, 4, 5, 6, 7}\n"
     ]
    }
   ],
   "source": [
    "set1 = {1, 2, 3}\n",
    "set2 = {3, 4, 5}\n",
    "set3 = {5, 6, 7}\n",
    "\n",
    "nset = set1.union(set2, set3)\n",
    "print(nset)"
   ]
  },
  {
   "cell_type": "code",
   "execution_count": 9,
   "id": "9d09650d-197a-4a59-a9f7-9f177c5ac36c",
   "metadata": {},
   "outputs": [
    {
     "name": "stdout",
     "output_type": "stream",
     "text": [
      "{1, 2, 3, 4, 5, 6, 7}\n"
     ]
    }
   ],
   "source": [
    "set1 = {1, 2, 3}\n",
    "set2 = {3, 4, 5}\n",
    "set3 = {5, 6, 7}\n",
    "\n",
    "set1.update(set2, set3)\n",
    "print(set1)"
   ]
  },
  {
   "cell_type": "markdown",
   "id": "b76a9140-887e-45d5-a834-6b5883fb4ee6",
   "metadata": {},
   "source": [
    "What is a dictionary? Give an example. Also, state whether a dictionary is ordered or unordered."
   ]
  },
  {
   "cell_type": "markdown",
   "id": "623a4a88-78b8-42c0-a9c1-b6d96c224d6c",
   "metadata": {},
   "source": [
    "It is a colllection of key value pair. A dictionary is unordered."
   ]
  },
  {
   "cell_type": "code",
   "execution_count": 11,
   "id": "416851b2-792a-4831-ada1-12bdf493b11b",
   "metadata": {},
   "outputs": [],
   "source": [
    "dict1={ \"name\":[\"Iffat\",\"Saima\"],\"age\":(19,18) }"
   ]
  },
  {
   "cell_type": "code",
   "execution_count": 12,
   "id": "f8496a1c-51ab-4320-b285-3db02fabd956",
   "metadata": {},
   "outputs": [
    {
     "data": {
      "text/plain": [
       "{'name': ['Iffat', 'Saima'], 'age': (19, 18)}"
      ]
     },
     "execution_count": 12,
     "metadata": {},
     "output_type": "execute_result"
    }
   ],
   "source": [
    "dict1"
   ]
  },
  {
   "cell_type": "markdown",
   "id": "06550b71-0400-449a-b95d-779626e8e65d",
   "metadata": {},
   "source": [
    "Can we create a nested dictionary? If so, please give an example by creating a simple one-level\n",
    "nested dictionary.\n",
    "\n",
    "Yes we can"
   ]
  },
  {
   "cell_type": "code",
   "execution_count": 14,
   "id": "ef5608a0-5dcb-4437-9dc3-857047193292",
   "metadata": {},
   "outputs": [
    {
     "name": "stdout",
     "output_type": "stream",
     "text": [
      "Iffat\n",
      "20\n",
      "Maharashtra\n",
      "Mumbai\n"
     ]
    }
   ],
   "source": [
    "person = {'name': 'Iffat', 'age': 20, 'address': {'city': 'Mumbai', 'state': 'Maharashtra'}}\n",
    "\n",
    "print(person['name'])                  \n",
    "print(person['age'])                   \n",
    "print(person['address']['state'])     \n",
    "print(person['address']['city'])       \n",
    "     \n"
   ]
  },
  {
   "cell_type": "markdown",
   "id": "374a4508-2e4d-4f2d-9ff7-4ec057e3cb81",
   "metadata": {},
   "source": [
    "Using setdefault() method, create key named topics in the given dictionary and also add the value of\n",
    "the key as this list ['Python', 'Machine Learning’, 'Deep Learning']\n",
    "dict1 = {'language' : 'Python', 'course': 'Data Science Masters'}"
   ]
  },
  {
   "cell_type": "code",
   "execution_count": 15,
   "id": "dc28b20c-d18d-4969-8c9a-b58030931afe",
   "metadata": {},
   "outputs": [
    {
     "name": "stdout",
     "output_type": "stream",
     "text": [
      "{'language': 'Python', 'course': 'Data Science Masters', 'topics': ['Python', 'Machine Learning', 'Deep Learning']}\n"
     ]
    }
   ],
   "source": [
    "dict1 = {'language': 'Python', 'course': 'Data Science Masters'}\n",
    "dict1.setdefault('topics', ['Python', 'Machine Learning', 'Deep Learning'])\n",
    "\n",
    "print(dict1)\n"
   ]
  },
  {
   "cell_type": "markdown",
   "id": "9dd84c81-fabb-4d40-b1a8-cd7cdd304742",
   "metadata": {},
   "source": [
    "What are the three view objects in dictionaries? Use the three in-built methods in python to display\n",
    "these three view objects for the given dictionary.\n",
    "\n",
    "dict1 = {'Sport': 'Cricket' , 'Teams': ['India', 'Australia', 'England', 'South Africa', 'Sri Lanka', 'New Zealand']}"
   ]
  },
  {
   "cell_type": "code",
   "execution_count": 20,
   "id": "ab8b24a0-82a6-4b81-ab50-2bd71963073e",
   "metadata": {},
   "outputs": [
    {
     "data": {
      "text/plain": [
       "dict_values(['Cricket', ['India', 'Australia', 'England', 'South Africa', 'Sri Lanka', 'New Zealand']])"
      ]
     },
     "execution_count": 20,
     "metadata": {},
     "output_type": "execute_result"
    }
   ],
   "source": [
    "dict1 = {'Sport': 'Cricket' , 'Teams': ['India', 'Australia', 'England', 'South Africa', 'Sri Lanka', 'New Zealand']}\n",
    "dict1.values()\n"
   ]
  },
  {
   "cell_type": "code",
   "execution_count": 21,
   "id": "804b15c8-f70b-4db0-90b1-d713cfd93634",
   "metadata": {},
   "outputs": [
    {
     "data": {
      "text/plain": [
       "dict_items([('Sport', 'Cricket'), ('Teams', ['India', 'Australia', 'England', 'South Africa', 'Sri Lanka', 'New Zealand'])])"
      ]
     },
     "execution_count": 21,
     "metadata": {},
     "output_type": "execute_result"
    }
   ],
   "source": [
    "dict1.items()"
   ]
  },
  {
   "cell_type": "code",
   "execution_count": 22,
   "id": "0fa827ba-8934-4c6b-a0ac-d08c733f939f",
   "metadata": {},
   "outputs": [
    {
     "data": {
      "text/plain": [
       "dict_keys(['Sport', 'Teams'])"
      ]
     },
     "execution_count": 22,
     "metadata": {},
     "output_type": "execute_result"
    }
   ],
   "source": [
    "dict1.keys()"
   ]
  },
  {
   "cell_type": "code",
   "execution_count": null,
   "id": "602330d8-69ff-46c2-85ce-d701e65f6126",
   "metadata": {},
   "outputs": [],
   "source": []
  }
 ],
 "metadata": {
  "kernelspec": {
   "display_name": "Python 3 (ipykernel)",
   "language": "python",
   "name": "python3"
  },
  "language_info": {
   "codemirror_mode": {
    "name": "ipython",
    "version": 3
   },
   "file_extension": ".py",
   "mimetype": "text/x-python",
   "name": "python",
   "nbconvert_exporter": "python",
   "pygments_lexer": "ipython3",
   "version": "3.10.8"
  }
 },
 "nbformat": 4,
 "nbformat_minor": 5
}
