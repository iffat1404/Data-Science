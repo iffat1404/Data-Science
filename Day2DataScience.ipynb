{
 "cells": [
  {
   "cell_type": "code",
   "execution_count": 1,
   "id": "21e715d1-72ba-46fd-be39-24d4084211db",
   "metadata": {},
   "outputs": [],
   "source": [
    "age=32"
   ]
  },
  {
   "cell_type": "code",
   "execution_count": 2,
   "id": "6e7e661c-6501-4501-a59f-e67f6b11c625",
   "metadata": {},
   "outputs": [
    {
     "name": "stdout",
     "output_type": "stream",
     "text": [
      "My name is Iffat and age is 19 \n"
     ]
    }
   ],
   "source": [
    "name=\"Iffat\"\n",
    "age= 19\n",
    "print(\"My name is {} and age is {} \". format(name,age)) "
   ]
  },
  {
   "cell_type": "code",
   "execution_count": 3,
   "id": "2adb372d-d842-4a5f-bdc6-047f3e2b6081",
   "metadata": {},
   "outputs": [
    {
     "name": "stdout",
     "output_type": "stream",
     "text": [
      "My age is 19 and I have completed : my degree of BscIT with the name of Iffat Patel\n"
     ]
    }
   ],
   "source": [
    "name =\"Iffat Patel\"\n",
    "age=19\n",
    "deg=\"BscIT\"\n",
    "print(\"My age is {fage} and I have completed : my degree of {fdeg} with the name of {fname}\".format(fage=age,fname=name,fdeg=deg))"
   ]
  },
  {
   "cell_type": "code",
   "execution_count": 5,
   "id": "9bc34c68-1d8e-4700-8b61-3c274ada928a",
   "metadata": {},
   "outputs": [
    {
     "name": "stdin",
     "output_type": "stream",
     "text": [
      "Enter your age 34\n"
     ]
    },
    {
     "name": "stdout",
     "output_type": "stream",
     "text": [
      "You are a young blood\n"
     ]
    }
   ],
   "source": [
    "age=int(input(\"Enter your age\"))\n",
    "if age>=18 and age <=45:\n",
    "    print(\"You are a young blood\")"
   ]
  },
  {
   "cell_type": "code",
   "execution_count": 10,
   "id": "14be5e82-d75d-4953-9ea7-1b68ccbb4ffa",
   "metadata": {},
   "outputs": [
    {
     "name": "stdin",
     "output_type": "stream",
     "text": [
      "Enter the product price :  10\n"
     ]
    },
    {
     "name": "stdout",
     "output_type": "stream",
     "text": [
      "The product price  7.0\n"
     ]
    }
   ],
   "source": [
    "pprice=int(input(\"Enter the product price : \"))\n",
    "if pprice>1000:\n",
    "    dis=(pprice*20)/100\n",
    "    pprice=pprice-dis\n",
    "    print(\"The product price \",pprice)\n",
    "else:\n",
    "    dis=(pprice*30)/100\n",
    "    pprice=pprice-dis\n",
    "    print(\"The product price \",pprice)\n",
    "\n",
    "           "
   ]
  },
  {
   "cell_type": "code",
   "execution_count": null,
   "id": "93fdab6c-b9a2-43e8-8cab-18ceb9277835",
   "metadata": {},
   "outputs": [],
   "source": []
  }
 ],
 "metadata": {
  "kernelspec": {
   "display_name": "Python 3 (ipykernel)",
   "language": "python",
   "name": "python3"
  },
  "language_info": {
   "codemirror_mode": {
    "name": "ipython",
    "version": 3
   },
   "file_extension": ".py",
   "mimetype": "text/x-python",
   "name": "python",
   "nbconvert_exporter": "python",
   "pygments_lexer": "ipython3",
   "version": "3.10.8"
  }
 },
 "nbformat": 4,
 "nbformat_minor": 5
}
