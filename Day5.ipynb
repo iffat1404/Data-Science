{
 "cells": [
  {
   "cell_type": "markdown",
   "id": "ddde3ec8-97e0-4c6c-be8f-617ba6a6092c",
   "metadata": {},
   "source": [
    "Lambda Functions"
   ]
  },
  {
   "cell_type": "code",
   "execution_count": 3,
   "id": "24036b05-913d-4a75-81ea-82732c94bff7",
   "metadata": {},
   "outputs": [],
   "source": [
    "a= lambda n,p: n**p"
   ]
  },
  {
   "cell_type": "code",
   "execution_count": 9,
   "id": "0c196e6a-baad-4d62-ab9c-de64e383c489",
   "metadata": {},
   "outputs": [
    {
     "data": {
      "text/plain": [
       "32"
      ]
     },
     "execution_count": 9,
     "metadata": {},
     "output_type": "execute_result"
    }
   ],
   "source": [
    "a(2,5)"
   ]
  },
  {
   "cell_type": "code",
   "execution_count": 5,
   "id": "c69ca74f-6b59-4e23-8e64-0d23a11a368f",
   "metadata": {},
   "outputs": [],
   "source": [
    "add = lambda a,b: a+b"
   ]
  },
  {
   "cell_type": "code",
   "execution_count": 6,
   "id": "5676d3ed-5114-48c4-8761-c4625c82f024",
   "metadata": {},
   "outputs": [
    {
     "data": {
      "text/plain": [
       "'purity'"
      ]
     },
     "execution_count": 6,
     "metadata": {},
     "output_type": "execute_result"
    }
   ],
   "source": [
    "add(\"pur\",\"ity\")"
   ]
  },
  {
   "cell_type": "code",
   "execution_count": 10,
   "id": "2deb7c9d-c8c7-4dda-924d-5fba55ded35d",
   "metadata": {},
   "outputs": [],
   "source": [
    "c_to_f = lambda c: (9/5)*c+32"
   ]
  },
  {
   "cell_type": "code",
   "execution_count": 14,
   "id": "de20eca5-9a0b-4da9-b737-c3af0a024ffc",
   "metadata": {},
   "outputs": [
    {
     "data": {
      "text/plain": [
       "104.0"
      ]
     },
     "execution_count": 14,
     "metadata": {},
     "output_type": "execute_result"
    }
   ],
   "source": [
    "c_to_f(40)"
   ]
  },
  {
   "cell_type": "code",
   "execution_count": 15,
   "id": "b210bda5-8aeb-4eb3-bede-1c337cc802b5",
   "metadata": {},
   "outputs": [],
   "source": [
    "maxt=lambda x,y:x if x>y else y"
   ]
  },
  {
   "cell_type": "code",
   "execution_count": 16,
   "id": "914d7e24-b0a1-47ef-a812-473f7b05df69",
   "metadata": {},
   "outputs": [
    {
     "data": {
      "text/plain": [
       "66"
      ]
     },
     "execution_count": 16,
     "metadata": {},
     "output_type": "execute_result"
    }
   ],
   "source": [
    "maxt(5,66)"
   ]
  },
  {
   "cell_type": "code",
   "execution_count": 17,
   "id": "4410a61c-44dd-4650-afff-d60bbad29373",
   "metadata": {},
   "outputs": [
    {
     "name": "stdout",
     "output_type": "stream",
     "text": [
      "[2, 4, 6, 8, 10]\n"
     ]
    }
   ],
   "source": [
    "numbers = [1, 2, 3, 4, 5, 6, 7, 8, 9, 10]\n",
    "print(numbers[1 : : 2])"
   ]
  },
  {
   "cell_type": "markdown",
   "id": "1116e3a0-8f9b-442c-8727-293a9ff920e5",
   "metadata": {},
   "source": [
    "Map, Reduce and filter"
   ]
  },
  {
   "cell_type": "code",
   "execution_count": 1,
   "id": "5c8b6b1d-b643-4ece-b5ce-d7a694a82c47",
   "metadata": {},
   "outputs": [],
   "source": [
    "l=[2,4,5,6,7,5,4]"
   ]
  },
  {
   "cell_type": "code",
   "execution_count": 2,
   "id": "ae45dfa9-5f0e-4217-96e2-60a53d9e6ddd",
   "metadata": {},
   "outputs": [],
   "source": [
    "def sq(x):\n",
    "    return x**2"
   ]
  },
  {
   "cell_type": "code",
   "execution_count": 3,
   "id": "c8f51ccf-411b-4814-8f2f-18d0a3dba23d",
   "metadata": {},
   "outputs": [
    {
     "data": {
      "text/plain": [
       "[4, 16, 25, 36, 49, 25, 16]"
      ]
     },
     "execution_count": 3,
     "metadata": {},
     "output_type": "execute_result"
    }
   ],
   "source": [
    "list(map(sq,l))"
   ]
  },
  {
   "cell_type": "code",
   "execution_count": null,
   "id": "186933a7-2884-42b8-9b2b-e9e8f6e0bdd3",
   "metadata": {},
   "outputs": [],
   "source": []
  },
  {
   "cell_type": "code",
   "execution_count": 4,
   "id": "72f02fe1-2657-455d-b44a-4cf8dc160896",
   "metadata": {},
   "outputs": [
    {
     "data": {
      "text/plain": [
       "[12, 14, 15, 16, 17, 15, 14]"
      ]
     },
     "execution_count": 4,
     "metadata": {},
     "output_type": "execute_result"
    }
   ],
   "source": [
    "list(map(lambda x :x+10,l))"
   ]
  },
  {
   "cell_type": "code",
   "execution_count": 7,
   "id": "4d9d9002-7dda-4e72-a56d-01dada6ab594",
   "metadata": {},
   "outputs": [],
   "source": [
    "l1=[1,2,3,4]\n",
    "l2=[6,7,8,]"
   ]
  },
  {
   "cell_type": "code",
   "execution_count": 8,
   "id": "b5eb9ed7-d446-4b1c-b9a5-8a9345d972e9",
   "metadata": {},
   "outputs": [
    {
     "data": {
      "text/plain": [
       "[7, 9, 11]"
      ]
     },
     "execution_count": 8,
     "metadata": {},
     "output_type": "execute_result"
    }
   ],
   "source": [
    "list(map(lambda x,y :x+y,l1,l2))"
   ]
  },
  {
   "cell_type": "code",
   "execution_count": 9,
   "id": "11b18796-c04e-4062-9ab7-80088681d4ec",
   "metadata": {},
   "outputs": [],
   "source": [
    "from functools import reduce"
   ]
  },
  {
   "cell_type": "code",
   "execution_count": 10,
   "id": "21544020-7bb0-4824-9758-3999dd8770ec",
   "metadata": {},
   "outputs": [],
   "source": [
    "l=[1,2,3,4,5,6]"
   ]
  },
  {
   "cell_type": "code",
   "execution_count": 11,
   "id": "452963e9-efb3-46fe-9390-86054f0e4cb7",
   "metadata": {},
   "outputs": [
    {
     "data": {
      "text/plain": [
       "21"
      ]
     },
     "execution_count": 11,
     "metadata": {},
     "output_type": "execute_result"
    }
   ],
   "source": [
    "reduce(lambda x, y:x+y,l)"
   ]
  },
  {
   "cell_type": "code",
   "execution_count": 13,
   "id": "017a6443-3875-489c-b3bf-0266286c346c",
   "metadata": {},
   "outputs": [
    {
     "data": {
      "text/plain": [
       "1"
      ]
     },
     "execution_count": 13,
     "metadata": {},
     "output_type": "execute_result"
    }
   ],
   "source": [
    "reduce(lambda x , y : x*y , [1])"
   ]
  },
  {
   "cell_type": "code",
   "execution_count": 14,
   "id": "e618442b-5aba-4167-9c09-9c6033b2b498",
   "metadata": {},
   "outputs": [
    {
     "data": {
      "text/plain": [
       "21"
      ]
     },
     "execution_count": 14,
     "metadata": {},
     "output_type": "execute_result"
    }
   ],
   "source": [
    "sum(l)"
   ]
  },
  {
   "cell_type": "code",
   "execution_count": 16,
   "id": "e9cce17f-dce9-4465-a6fc-435df3e44413",
   "metadata": {},
   "outputs": [
    {
     "data": {
      "text/plain": [
       "[2, 4, 6]"
      ]
     },
     "execution_count": 16,
     "metadata": {},
     "output_type": "execute_result"
    }
   ],
   "source": [
    "list(filter(lambda x:x%2==0,l))"
   ]
  },
  {
   "cell_type": "code",
   "execution_count": null,
   "id": "1e1e1f42-cd76-4be0-9c92-48c4a3bafe39",
   "metadata": {},
   "outputs": [],
   "source": []
  }
 ],
 "metadata": {
  "kernelspec": {
   "display_name": "Python 3 (ipykernel)",
   "language": "python",
   "name": "python3"
  },
  "language_info": {
   "codemirror_mode": {
    "name": "ipython",
    "version": 3
   },
   "file_extension": ".py",
   "mimetype": "text/x-python",
   "name": "python",
   "nbconvert_exporter": "python",
   "pygments_lexer": "ipython3",
   "version": "3.10.8"
  }
 },
 "nbformat": 4,
 "nbformat_minor": 5
}
