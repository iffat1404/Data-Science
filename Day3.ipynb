{
 "cells": [
  {
   "cell_type": "code",
   "execution_count": 1,
   "id": "0e7ecc9c-8aa3-44ba-b329-3f3189c20677",
   "metadata": {},
   "outputs": [],
   "source": [
    "t=()"
   ]
  },
  {
   "cell_type": "code",
   "execution_count": 3,
   "id": "fc87f424-5940-401c-afcd-f11ff5bfb1fa",
   "metadata": {},
   "outputs": [
    {
     "data": {
      "text/plain": [
       "tuple"
      ]
     },
     "execution_count": 3,
     "metadata": {},
     "output_type": "execute_result"
    }
   ],
   "source": [
    "type(t)"
   ]
  },
  {
   "cell_type": "code",
   "execution_count": 2,
   "id": "98f74a37-ba80-4bd1-b582-6ccd120997e5",
   "metadata": {},
   "outputs": [],
   "source": [
    "t1=(1,2,3,4,45.5,45+7j,\"iffat\",True)"
   ]
  },
  {
   "cell_type": "code",
   "execution_count": 3,
   "id": "28da17ed-4c5a-4adf-be11-befc2d087348",
   "metadata": {},
   "outputs": [
    {
     "data": {
      "text/plain": [
       "(1, 2, 3, 4, 45.5, (45+7j), 'iffat', True)"
      ]
     },
     "execution_count": 3,
     "metadata": {},
     "output_type": "execute_result"
    }
   ],
   "source": [
    "t1"
   ]
  },
  {
   "cell_type": "code",
   "execution_count": 6,
   "id": "3672cdea-1bd5-423f-bc9a-3adb52ea9059",
   "metadata": {},
   "outputs": [
    {
     "data": {
      "text/plain": [
       "3"
      ]
     },
     "execution_count": 6,
     "metadata": {},
     "output_type": "execute_result"
    }
   ],
   "source": [
    "t1[2]"
   ]
  },
  {
   "cell_type": "code",
   "execution_count": 7,
   "id": "e0de1bca-ee23-4220-8f5d-110ee1a129c6",
   "metadata": {},
   "outputs": [],
   "source": [
    "t1=t1[::-1]"
   ]
  },
  {
   "cell_type": "code",
   "execution_count": 8,
   "id": "e7b76491-156b-4065-9b6a-762c926f7088",
   "metadata": {},
   "outputs": [
    {
     "data": {
      "text/plain": [
       "(True, 'iffat', (45+7j), 45.5, 4, 3, 2, 1)"
      ]
     },
     "execution_count": 8,
     "metadata": {},
     "output_type": "execute_result"
    }
   ],
   "source": [
    "t1"
   ]
  },
  {
   "cell_type": "code",
   "execution_count": 10,
   "id": "c39010ce-fa29-425c-a314-332246d6087e",
   "metadata": {},
   "outputs": [
    {
     "data": {
      "text/plain": [
       "1"
      ]
     },
     "execution_count": 10,
     "metadata": {},
     "output_type": "execute_result"
    }
   ],
   "source": [
    "t1.count(4)"
   ]
  },
  {
   "cell_type": "code",
   "execution_count": 4,
   "id": "0a515f58-d9cd-4ae4-85c1-ff85a74bd8f5",
   "metadata": {},
   "outputs": [
    {
     "data": {
      "text/plain": [
       "0"
      ]
     },
     "execution_count": 4,
     "metadata": {},
     "output_type": "execute_result"
    }
   ],
   "source": [
    "t1.index(1)"
   ]
  },
  {
   "cell_type": "code",
   "execution_count": 5,
   "id": "79ab8756-cad1-46b7-94f2-c1a9753ab16b",
   "metadata": {},
   "outputs": [
    {
     "data": {
      "text/plain": [
       "(1, 2, 3, 4, 45.5, (45+7j), 'iffat', True)"
      ]
     },
     "execution_count": 5,
     "metadata": {},
     "output_type": "execute_result"
    }
   ],
   "source": [
    "t1"
   ]
  },
  {
   "cell_type": "code",
   "execution_count": 6,
   "id": "cdf67ca7-ed75-4746-a359-c95ff8af3998",
   "metadata": {},
   "outputs": [],
   "source": [
    "l=[1,2,6.7,8]"
   ]
  },
  {
   "cell_type": "code",
   "execution_count": 7,
   "id": "e410970a-064d-4363-9147-e407526ad618",
   "metadata": {},
   "outputs": [
    {
     "data": {
      "text/plain": [
       "[1, 2, 6.7, 8]"
      ]
     },
     "execution_count": 7,
     "metadata": {},
     "output_type": "execute_result"
    }
   ],
   "source": [
    "l"
   ]
  },
  {
   "cell_type": "code",
   "execution_count": 8,
   "id": "9abf04a6-d7e3-4417-93aa-70d289b3ba81",
   "metadata": {},
   "outputs": [
    {
     "ename": "SyntaxError",
     "evalue": "invalid syntax (2943397679.py, line 1)",
     "output_type": "error",
     "traceback": [
      "\u001b[0;36m  Cell \u001b[0;32mIn[8], line 1\u001b[0;36m\u001b[0m\n\u001b[0;31m    t1[1]=4|\u001b[0m\n\u001b[0m            ^\u001b[0m\n\u001b[0;31mSyntaxError\u001b[0m\u001b[0;31m:\u001b[0m invalid syntax\n"
     ]
    }
   ],
   "source": [
    "t1[1]=4|"
   ]
  },
  {
   "cell_type": "code",
   "execution_count": 9,
   "id": "bb811b73-9c70-4e5b-81df-8446b6410f71",
   "metadata": {},
   "outputs": [],
   "source": [
    "l[3]=\"Yes\""
   ]
  },
  {
   "cell_type": "code",
   "execution_count": 10,
   "id": "ad811073-79f3-4c1f-aab4-6fefa53b0807",
   "metadata": {},
   "outputs": [
    {
     "data": {
      "text/plain": [
       "[1, 2, 6.7, 'Yes']"
      ]
     },
     "execution_count": 10,
     "metadata": {},
     "output_type": "execute_result"
    }
   ],
   "source": [
    "l"
   ]
  },
  {
   "cell_type": "code",
   "execution_count": 11,
   "id": "62ed5d98-065f-4d64-b711-a7c1e9f324ed",
   "metadata": {},
   "outputs": [
    {
     "name": "stdout",
     "output_type": "stream",
     "text": [
      "1 <class 'int'>\n",
      "2 <class 'int'>\n",
      "3 <class 'int'>\n",
      "4 <class 'int'>\n",
      "45.5 <class 'float'>\n",
      "(45+7j) <class 'complex'>\n",
      "iffat <class 'str'>\n",
      "True <class 'bool'>\n"
     ]
    }
   ],
   "source": [
    "for i in t1:\n",
    "    print(i,type(i))"
   ]
  },
  {
   "cell_type": "code",
   "execution_count": null,
   "id": "66dddd62-69c1-4992-9dfa-8efc1e0faef2",
   "metadata": {},
   "outputs": [],
   "source": []
  },
  {
   "cell_type": "markdown",
   "id": "bf458bf5-023c-4d3d-8354-5d724b12eaf7",
   "metadata": {},
   "source": [
    "Tuples are immutable"
   ]
  },
  {
   "cell_type": "code",
   "execution_count": 14,
   "id": "8fa12c85-86a9-44af-a0c7-134de7b93a64",
   "metadata": {},
   "outputs": [
    {
     "data": {
      "text/plain": [
       "True"
      ]
     },
     "execution_count": 14,
     "metadata": {},
     "output_type": "execute_result"
    }
   ],
   "source": [
    "\"iffat\" in t1"
   ]
  },
  {
   "cell_type": "markdown",
   "id": "62863d11-6274-4fd6-99e4-673dba154bba",
   "metadata": {},
   "source": [
    "Sets will be used to delete duplicate information"
   ]
  },
  {
   "cell_type": "code",
   "execution_count": null,
   "id": "ee4eeb14-3f77-438d-876a-4462e4d9fa19",
   "metadata": {},
   "outputs": [],
   "source": []
  }
 ],
 "metadata": {
  "kernelspec": {
   "display_name": "Python 3 (ipykernel)",
   "language": "python",
   "name": "python3"
  },
  "language_info": {
   "codemirror_mode": {
    "name": "ipython",
    "version": 3
   },
   "file_extension": ".py",
   "mimetype": "text/x-python",
   "name": "python",
   "nbconvert_exporter": "python",
   "pygments_lexer": "ipython3",
   "version": "3.10.8"
  }
 },
 "nbformat": 4,
 "nbformat_minor": 5
}
