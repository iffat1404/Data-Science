{
 "cells": [
  {
   "cell_type": "markdown",
   "id": "5c4fa994-fb64-42fc-a5e8-1332bcd3ee1d",
   "metadata": {},
   "source": [
    "Polymorphism"
   ]
  },
  {
   "cell_type": "code",
   "execution_count": 1,
   "id": "eac570dc-f267-4fe6-80ae-738323dc8e1a",
   "metadata": {},
   "outputs": [],
   "source": [
    "class data_sci:\n",
    "    def syllabus(self):\n",
    "        print(\"Syllabus for Data Science\")"
   ]
  },
  {
   "cell_type": "code",
   "execution_count": 2,
   "id": "9152bd71-fbd3-4ba5-988d-9fcce7f9dfcb",
   "metadata": {},
   "outputs": [],
   "source": [
    "class webdev:\n",
    "    def syllabus(self):\n",
    "        print(\"Syllabus for webdev\")"
   ]
  },
  {
   "cell_type": "code",
   "execution_count": 3,
   "id": "05ef65db-74a8-4979-a9ca-d4f4170ab73a",
   "metadata": {},
   "outputs": [],
   "source": [
    "def parcer(class_obj):\n",
    "    for i in class_obj:\n",
    "        i.syllabus()"
   ]
  },
  {
   "cell_type": "code",
   "execution_count": 4,
   "id": "66429bc0-9a90-4769-87cf-7c58559b13e4",
   "metadata": {},
   "outputs": [],
   "source": [
    "obj_data_sci=data_sci()"
   ]
  },
  {
   "cell_type": "code",
   "execution_count": 5,
   "id": "428323da-f67b-4d54-9409-5f68a5e17dbe",
   "metadata": {},
   "outputs": [],
   "source": [
    "obj_webdev=webdev()"
   ]
  },
  {
   "cell_type": "code",
   "execution_count": 6,
   "id": "2d7206d8-ef3b-4b58-bf79-6a612dcee756",
   "metadata": {},
   "outputs": [],
   "source": [
    "class_obj=[obj_data_sci, obj_webdev]"
   ]
  },
  {
   "cell_type": "code",
   "execution_count": 7,
   "id": "9ba51677-d507-4346-b95c-e039ab7f785d",
   "metadata": {},
   "outputs": [
    {
     "name": "stdout",
     "output_type": "stream",
     "text": [
      "Syllabus for Data Science\n",
      "Syllabus for webdev\n"
     ]
    }
   ],
   "source": [
    "parcer(class_obj)"
   ]
  },
  {
   "cell_type": "markdown",
   "id": "2ed0d6a6-c57d-4734-95cd-084a32b5714a",
   "metadata": {},
   "source": [
    "Encapsulation"
   ]
  },
  {
   "cell_type": "code",
   "execution_count": 9,
   "id": "a1c3b6a0-79a8-415f-ac4c-5c4043cd2354",
   "metadata": {},
   "outputs": [],
   "source": [
    "class bank_account:\n",
    "    def __init__(self,balance):\n",
    "        self.__balance=balance\n",
    "    def deposit(self,amount):\n",
    "        self.__balance=self.__balance+amount\n",
    "    def withdraw(self,amount):\n",
    "        if self.__balance >=amount:\n",
    "            self.__balance=self.__balance-amount\n",
    "            return True\n",
    "        else:\n",
    "            return False\n",
    "    def get_balance(self):\n",
    "        return self.__balance"
   ]
  },
  {
   "cell_type": "code",
   "execution_count": 11,
   "id": "212766b2-6af2-4bad-be5c-677014a220ab",
   "metadata": {},
   "outputs": [],
   "source": [
    "obj=bank_account(2000)"
   ]
  },
  {
   "cell_type": "code",
   "execution_count": 12,
   "id": "74d280d1-17fd-48df-900c-ee46e106a013",
   "metadata": {},
   "outputs": [],
   "source": [
    "obj.deposit(3000)"
   ]
  },
  {
   "cell_type": "code",
   "execution_count": 13,
   "id": "085f7730-5b6d-42c8-a2cb-6bb06a83924b",
   "metadata": {},
   "outputs": [
    {
     "data": {
      "text/plain": [
       "5000"
      ]
     },
     "execution_count": 13,
     "metadata": {},
     "output_type": "execute_result"
    }
   ],
   "source": [
    "obj.get_balance()"
   ]
  },
  {
   "cell_type": "code",
   "execution_count": 14,
   "id": "fcbffc9d-be81-41f3-8409-ddb28fd6bb88",
   "metadata": {},
   "outputs": [
    {
     "data": {
      "text/plain": [
       "True"
      ]
     },
     "execution_count": 14,
     "metadata": {},
     "output_type": "execute_result"
    }
   ],
   "source": [
    "obj.withdraw(200)"
   ]
  },
  {
   "cell_type": "code",
   "execution_count": 15,
   "id": "e1ea64e3-0d65-4f3f-a3e0-fa2e0e0aaf7f",
   "metadata": {},
   "outputs": [
    {
     "data": {
      "text/plain": [
       "4800"
      ]
     },
     "execution_count": 15,
     "metadata": {},
     "output_type": "execute_result"
    }
   ],
   "source": [
    "obj.get_balance()"
   ]
  },
  {
   "cell_type": "markdown",
   "id": "05d8d366-4955-440f-9657-8f0b968ff38e",
   "metadata": {},
   "source": [
    "Inheritance"
   ]
  },
  {
   "cell_type": "code",
   "execution_count": 16,
   "id": "51cc1b2e-c166-42f6-99c0-e03744326793",
   "metadata": {},
   "outputs": [],
   "source": [
    "class class1:\n",
    "    def class1func(self):\n",
    "        print(\"This is Class1\")"
   ]
  },
  {
   "cell_type": "code",
   "execution_count": 17,
   "id": "8cedbbaf-9e4c-47b2-848f-0bd906bb66b3",
   "metadata": {},
   "outputs": [],
   "source": [
    "class class2(class1):\n",
    "    def class2func(self):\n",
    "        print(\"This is Class2\")"
   ]
  },
  {
   "cell_type": "code",
   "execution_count": 19,
   "id": "b35167ad-b4e4-4eaa-9105-894642d76767",
   "metadata": {},
   "outputs": [],
   "source": [
    "class class3(class2):\n",
    "    def class3func(self):\n",
    "        print(\"This is Class3\")"
   ]
  },
  {
   "cell_type": "code",
   "execution_count": 20,
   "id": "8841901f-683d-42d7-bb57-86c219e908bf",
   "metadata": {},
   "outputs": [],
   "source": [
    "obj1=class1()\n",
    "obj2=class2()\n",
    "obj3=class3()"
   ]
  },
  {
   "cell_type": "code",
   "execution_count": 23,
   "id": "05ae4cc8-bf15-4708-a981-fc9d8c52892f",
   "metadata": {},
   "outputs": [
    {
     "name": "stdout",
     "output_type": "stream",
     "text": [
      "This is Class1\n"
     ]
    }
   ],
   "source": [
    "obj2.class1func()"
   ]
  },
  {
   "cell_type": "code",
   "execution_count": 22,
   "id": "88c5028c-5200-4298-84bc-ec0364c58a58",
   "metadata": {},
   "outputs": [
    {
     "name": "stdout",
     "output_type": "stream",
     "text": [
      "This is Class3\n"
     ]
    }
   ],
   "source": [
    "obj3.class3func()"
   ]
  },
  {
   "cell_type": "code",
   "execution_count": null,
   "id": "a691c793-a658-4696-9ab6-626708018345",
   "metadata": {},
   "outputs": [],
   "source": []
  },
  {
   "cell_type": "code",
   "execution_count": 24,
   "id": "88310811-ecbe-4f0f-8b11-a83387feea71",
   "metadata": {},
   "outputs": [],
   "source": [
    "class class1:\n",
    "    def class1func(self):\n",
    "        print(\"This is Class1\")"
   ]
  },
  {
   "cell_type": "code",
   "execution_count": 25,
   "id": "e9c6b157-4172-4b9e-b82e-4f8af7f54db5",
   "metadata": {},
   "outputs": [],
   "source": [
    "class class2:\n",
    "    def class2func(self):\n",
    "        print(\"This is Class2\")"
   ]
  },
  {
   "cell_type": "code",
   "execution_count": 26,
   "id": "8cda6f64-0bff-4f31-9dd8-67fb41e3ac87",
   "metadata": {},
   "outputs": [],
   "source": [
    "class class3(class1,class2):\n",
    "    pass"
   ]
  },
  {
   "cell_type": "code",
   "execution_count": 27,
   "id": "fdf35dc2-83d2-48f6-8d8c-c208bde18da2",
   "metadata": {},
   "outputs": [],
   "source": [
    "obj3=class3()"
   ]
  },
  {
   "cell_type": "code",
   "execution_count": 28,
   "id": "90f7fdab-ac82-45eb-b78f-13743a69f25b",
   "metadata": {},
   "outputs": [
    {
     "name": "stdout",
     "output_type": "stream",
     "text": [
      "This is Class2\n"
     ]
    }
   ],
   "source": [
    "obj3.class2func()"
   ]
  },
  {
   "cell_type": "code",
   "execution_count": null,
   "id": "c73eac74-66a8-4061-8c1d-cbb8085e2c1a",
   "metadata": {},
   "outputs": [],
   "source": []
  },
  {
   "cell_type": "markdown",
   "id": "04aaa177-a347-4b59-be32-287cf97aeab3",
   "metadata": {},
   "source": [
    "Abstraction"
   ]
  },
  {
   "cell_type": "code",
   "execution_count": 30,
   "id": "cf7399c0-de4b-49d9-836b-6d3af6732529",
   "metadata": {},
   "outputs": [],
   "source": [
    "import abc\n",
    "class pwskills:\n",
    "    @abc.abstractmethod\n",
    "    def student_detail(self):\n",
    "        pass\n",
    "    @abc.abstractmethod\n",
    "    def stud_assignment(self):\n",
    "        pass\n",
    "    @abc.abstractmethod\n",
    "    def std_marks(self):\n",
    "        pass"
   ]
  },
  {
   "cell_type": "code",
   "execution_count": 32,
   "id": "2c40662a-4120-4060-b2fb-ffabc472311f",
   "metadata": {},
   "outputs": [],
   "source": [
    "class datasc(pwskills):\n",
    "    def student_detail(self):\n",
    "        return \"Detail of data science\"\n",
    "    def stud_assignment(self):\n",
    "        return \"Student assignment of data science\""
   ]
  },
  {
   "cell_type": "code",
   "execution_count": 33,
   "id": "cafbf8e4-e2e3-4572-ba98-f44490b5ad20",
   "metadata": {},
   "outputs": [],
   "source": [
    "class webdev(pwskills):\n",
    "    def stud_assignment(shs):\n",
    "        return \"ASsignment of web dev\""
   ]
  },
  {
   "cell_type": "code",
   "execution_count": 36,
   "id": "1ece626d-ec5c-4ef2-b634-c57ae17216c2",
   "metadata": {},
   "outputs": [],
   "source": [
    "ds=datasc()"
   ]
  },
  {
   "cell_type": "code",
   "execution_count": 37,
   "id": "04f0e5e0-cc9b-4485-aa4f-8b2c65578105",
   "metadata": {},
   "outputs": [],
   "source": [
    "wb=webdev()"
   ]
  },
  {
   "cell_type": "code",
   "execution_count": 38,
   "id": "a5d9be86-627a-45aa-afc7-e9113591e712",
   "metadata": {},
   "outputs": [
    {
     "data": {
      "text/plain": [
       "'Student assignment of data science'"
      ]
     },
     "execution_count": 38,
     "metadata": {},
     "output_type": "execute_result"
    }
   ],
   "source": [
    "ds.stud_assignment()"
   ]
  },
  {
   "cell_type": "code",
   "execution_count": 39,
   "id": "862f6500-2480-4972-bac8-e51864bf5781",
   "metadata": {},
   "outputs": [],
   "source": [
    "ds.std_marks()"
   ]
  },
  {
   "cell_type": "code",
   "execution_count": 40,
   "id": "ccdb1a2d-5886-49b2-abba-c3d8b81e4450",
   "metadata": {},
   "outputs": [
    {
     "data": {
      "text/plain": [
       "'ASsignment of web dev'"
      ]
     },
     "execution_count": 40,
     "metadata": {},
     "output_type": "execute_result"
    }
   ],
   "source": [
    "wb.stud_assignment()"
   ]
  },
  {
   "cell_type": "code",
   "execution_count": null,
   "id": "cb147164-3dbb-4114-ad76-d8b21b56c6d9",
   "metadata": {},
   "outputs": [],
   "source": []
  }
 ],
 "metadata": {
  "kernelspec": {
   "display_name": "Python 3 (ipykernel)",
   "language": "python",
   "name": "python3"
  },
  "language_info": {
   "codemirror_mode": {
    "name": "ipython",
    "version": 3
   },
   "file_extension": ".py",
   "mimetype": "text/x-python",
   "name": "python",
   "nbconvert_exporter": "python",
   "pygments_lexer": "ipython3",
   "version": "3.10.8"
  }
 },
 "nbformat": 4,
 "nbformat_minor": 5
}
