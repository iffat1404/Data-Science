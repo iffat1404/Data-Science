{
 "cells": [
  {
   "cell_type": "code",
   "execution_count": 1,
   "id": "3af0198d-3676-4f25-b1dd-947b1bd019cc",
   "metadata": {},
   "outputs": [],
   "source": [
    "a=90"
   ]
  },
  {
   "cell_type": "code",
   "execution_count": 2,
   "id": "ce256b03-9459-4644-930f-143580adb12b",
   "metadata": {},
   "outputs": [
    {
     "name": "stdout",
     "output_type": "stream",
     "text": [
      "<class 'int'>\n"
     ]
    }
   ],
   "source": [
    "print(type(a))"
   ]
  },
  {
   "cell_type": "code",
   "execution_count": 5,
   "id": "57a69222-8408-406c-91ae-173d322f9455",
   "metadata": {},
   "outputs": [],
   "source": [
    "class test:\n",
    "    pass\n",
    "    "
   ]
  },
  {
   "cell_type": "code",
   "execution_count": 8,
   "id": "70582c90-58a3-44ab-b7bb-8b36de17a275",
   "metadata": {},
   "outputs": [],
   "source": [
    "class pw:\n",
    "    def welcome(self):\n",
    "        print(\"Welcome\")"
   ]
  },
  {
   "cell_type": "code",
   "execution_count": 9,
   "id": "1ac88030-73c9-496c-8155-3d75bf6ebcd6",
   "metadata": {},
   "outputs": [],
   "source": [
    "iffat=pw()"
   ]
  },
  {
   "cell_type": "code",
   "execution_count": 10,
   "id": "4919cb2a-9eb9-4ca9-a76d-d0c6e599de72",
   "metadata": {},
   "outputs": [
    {
     "name": "stdout",
     "output_type": "stream",
     "text": [
      "Welcome\n"
     ]
    }
   ],
   "source": [
    "iffat.welcome()"
   ]
  },
  {
   "cell_type": "code",
   "execution_count": 11,
   "id": "b69289b3-cc06-4b83-940d-61c3f63d6f73",
   "metadata": {},
   "outputs": [
    {
     "ename": "NameError",
     "evalue": "name 'hasan' is not defined",
     "output_type": "error",
     "traceback": [
      "\u001b[0;31m---------------------------------------------------------------------------\u001b[0m",
      "\u001b[0;31mNameError\u001b[0m                                 Traceback (most recent call last)",
      "Cell \u001b[0;32mIn[11], line 1\u001b[0m\n\u001b[0;32m----> 1\u001b[0m \u001b[43mhasan\u001b[49m\u001b[38;5;241m.\u001b[39mwelcome()\n",
      "\u001b[0;31mNameError\u001b[0m: name 'hasan' is not defined"
     ]
    }
   ],
   "source": [
    "hasan.welcome()"
   ]
  },
  {
   "cell_type": "code",
   "execution_count": 22,
   "id": "d28ba2f8-c091-4aef-88de-a2c4de287dc6",
   "metadata": {},
   "outputs": [],
   "source": [
    "class pw1:\n",
    "    def __init__(self, pn,em,sd):\n",
    "        self.phone=pn\n",
    "        self.email=em\n",
    "        self.student=sd\n",
    "    def returndetails(self):\n",
    "        return self.phone,self.email,self.student\n",
    "    "
   ]
  },
  {
   "cell_type": "code",
   "execution_count": 23,
   "id": "99765b0a-0dc3-4d79-b412-eb81ce88aaa7",
   "metadata": {},
   "outputs": [],
   "source": [
    "sohan=pw1(9930302,\"sdd.sss\",2)"
   ]
  },
  {
   "cell_type": "code",
   "execution_count": 24,
   "id": "7f13b193-89a6-47fc-a9e5-ae44e7522326",
   "metadata": {},
   "outputs": [
    {
     "data": {
      "text/plain": [
       "9930302"
      ]
     },
     "execution_count": 24,
     "metadata": {},
     "output_type": "execute_result"
    }
   ],
   "source": [
    "sohan.phone"
   ]
  },
  {
   "cell_type": "code",
   "execution_count": 25,
   "id": "e6f126cc-8c6c-4390-8f41-193f8d69ae32",
   "metadata": {},
   "outputs": [],
   "source": [
    "rohan=pw1(8594943,\"gjgi\",90)"
   ]
  },
  {
   "cell_type": "code",
   "execution_count": 26,
   "id": "07d00edb-09f9-4ec9-b76a-d331308b7f35",
   "metadata": {},
   "outputs": [
    {
     "data": {
      "text/plain": [
       "(8594943, 'gjgi', 90)"
      ]
     },
     "execution_count": 26,
     "metadata": {},
     "output_type": "execute_result"
    }
   ],
   "source": [
    "rohan.returndetails()"
   ]
  },
  {
   "cell_type": "code",
   "execution_count": null,
   "id": "2d686da6-2e90-4a2a-9d33-5b75faac2a99",
   "metadata": {},
   "outputs": [],
   "source": []
  }
 ],
 "metadata": {
  "kernelspec": {
   "display_name": "Python 3 (ipykernel)",
   "language": "python",
   "name": "python3"
  },
  "language_info": {
   "codemirror_mode": {
    "name": "ipython",
    "version": 3
   },
   "file_extension": ".py",
   "mimetype": "text/x-python",
   "name": "python",
   "nbconvert_exporter": "python",
   "pygments_lexer": "ipython3",
   "version": "3.10.8"
  }
 },
 "nbformat": 4,
 "nbformat_minor": 5
}
