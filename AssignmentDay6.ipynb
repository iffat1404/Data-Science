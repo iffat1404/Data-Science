{
 "cells": [
  {
   "cell_type": "markdown",
   "id": "8bc71d1f-0f5e-4f98-bb80-3bf69dd49bf6",
   "metadata": {},
   "source": [
    "Explain Class and Object with respect to Object-Oriented Programming. Give a suitable example.\n"
   ]
  },
  {
   "cell_type": "markdown",
   "id": "78eb92ab-b427-4932-aed5-109cd2c72e84",
   "metadata": {},
   "source": [
    "A class is a blueprint for creating objects.\n",
    "It defines a set of properties and methods that the objects created from that class will contain. \n",
    "An object is an instance of a class. "
   ]
  },
  {
   "cell_type": "markdown",
   "id": "b809240c-2654-4651-964d-50aebfee06b7",
   "metadata": {},
   "source": [
    "Name the four pillars of OOPs.\n",
    "\n",
    "Encapsulation,\n",
    "inheritance,\n",
    "Polymorphism,\n",
    "Abstraction."
   ]
  },
  {
   "cell_type": "markdown",
   "id": "f4532400-2b5c-4327-b5e6-951592d59c40",
   "metadata": {},
   "source": [
    "Explain why the __init__() function is used. Give a suitable example.\n",
    "\n",
    "__init__ function is used for creating constructors which defines the type and number of parameters that the class objects should take."
   ]
  },
  {
   "cell_type": "markdown",
   "id": "b5bf964b-3a4a-45e4-9b61-a936321a2497",
   "metadata": {},
   "source": [
    "Why self is used in OOPs?\n",
    "\n",
    "Self is used to provide an reference to an object of the class"
   ]
  },
  {
   "cell_type": "code",
   "execution_count": null,
   "id": "0bb1c6cb-661b-4253-8b63-60cff7faf8b6",
   "metadata": {},
   "outputs": [],
   "source": [
    "What is inheritance? Give an example for each type of inheritance.\n",
    "\n",
    "Inheritance means inheriting the "
   ]
  }
 ],
 "metadata": {
  "kernelspec": {
   "display_name": "Python 3 (ipykernel)",
   "language": "python",
   "name": "python3"
  },
  "language_info": {
   "codemirror_mode": {
    "name": "ipython",
    "version": 3
   },
   "file_extension": ".py",
   "mimetype": "text/x-python",
   "name": "python",
   "nbconvert_exporter": "python",
   "pygments_lexer": "ipython3",
   "version": "3.10.8"
  }
 },
 "nbformat": 4,
 "nbformat_minor": 5
}
