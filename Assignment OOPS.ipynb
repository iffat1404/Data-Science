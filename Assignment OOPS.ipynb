{
 "cells": [
  {
   "cell_type": "markdown",
   "id": "ceed8f02-8938-491c-9e06-7a6d8a4f9e37",
   "metadata": {},
   "source": [
    "Q1, Create a vehicle class with an init method having instance variables as name_of_vehicle, max_speed\n",
    "and average_of_vehicle.\n",
    "\n",
    "Q2. Create a child class car from the vehicle class created in Que 1, which will inherit the vehicle class.\n",
    "Create a method named seating_capacity which takes capacity as an argument and returns the name of\n",
    "the vehicle and its seating capacity."
   ]
  },
  {
   "cell_type": "code",
   "execution_count": 3,
   "id": "c6b8c909-a665-473c-860b-eff0279f28ca",
   "metadata": {},
   "outputs": [],
   "source": [
    "class vehicle:\n",
    "    def __init__(self,name_of_vehicle,max_speed,average_of_vehicle):\n",
    "        self.name=name_of_vehicle\n",
    "        self.maxspeed=max_speed\n",
    "        self.avg=average_of_vehicle\n",
    "    def give(self):\n",
    "        return self.name,self.maxspeed,self.avg"
   ]
  },
  {
   "cell_type": "code",
   "execution_count": 5,
   "id": "ded95b49-26a4-4ac1-bee3-c7e2e1084693",
   "metadata": {},
   "outputs": [],
   "source": [
    "obj=vehicle(\"toyota\",900,50000)"
   ]
  },
  {
   "cell_type": "code",
   "execution_count": 6,
   "id": "11c9a933-b50a-4121-bd88-8f4026d31e1e",
   "metadata": {},
   "outputs": [
    {
     "data": {
      "text/plain": [
       "('toyota', 900, 50000)"
      ]
     },
     "execution_count": 6,
     "metadata": {},
     "output_type": "execute_result"
    }
   ],
   "source": [
    "obj.give()"
   ]
  },
  {
   "cell_type": "code",
   "execution_count": 8,
   "id": "05be6ed8-9f98-4d8f-8f39-f4ca45212611",
   "metadata": {},
   "outputs": [],
   "source": [
    "class child(vehicle):\n",
    "    def seating_caapacity(self,capacity):\n",
    "        self.capacity=capacity\n",
    "        return self.name,self.capacity\n",
    "    "
   ]
  },
  {
   "cell_type": "code",
   "execution_count": null,
   "id": "84b2f9d9-d6a7-4710-b29c-2642b54c482d",
   "metadata": {},
   "outputs": [],
   "source": []
  },
  {
   "cell_type": "code",
   "execution_count": 10,
   "id": "893ff416-8440-4bec-bf9d-74ab10abbf7f",
   "metadata": {},
   "outputs": [],
   "source": [
    "obj1=child(\"gogf\",890,90000)"
   ]
  },
  {
   "cell_type": "code",
   "execution_count": 11,
   "id": "0c97f5ff-fab8-44ed-838e-6e2eb487ae9b",
   "metadata": {},
   "outputs": [
    {
     "data": {
      "text/plain": [
       "('gogf', 8000)"
      ]
     },
     "execution_count": 11,
     "metadata": {},
     "output_type": "execute_result"
    }
   ],
   "source": [
    "obj1.seating_caapacity(8000)"
   ]
  },
  {
   "cell_type": "markdown",
   "id": "c929cf1b-733c-451d-87c0-d1bfd1b25dd8",
   "metadata": {},
   "source": [
    "Q3. What is multiple inheritance? Write a python code to demonstrate multiple inheritance.\n",
    "\n",
    "when a child class inherits from multiple parent class it is said to be multiple inheritance."
   ]
  },
  {
   "cell_type": "code",
   "execution_count": 12,
   "id": "16beaae1-4266-4704-bf50-c8dfed4e06e1",
   "metadata": {},
   "outputs": [],
   "source": [
    "class class1:\n",
    "    def class1func(self):\n",
    "        print(\"This is Class1\")"
   ]
  },
  {
   "cell_type": "code",
   "execution_count": 13,
   "id": "9431e0f0-3dfc-47b0-9b80-52260c46e207",
   "metadata": {},
   "outputs": [],
   "source": [
    "class class2:\n",
    "    def class2func(self):\n",
    "        print(\"This is Class2\")"
   ]
  },
  {
   "cell_type": "code",
   "execution_count": 14,
   "id": "3f7cab61-0549-468d-ba63-d2e2870ed739",
   "metadata": {},
   "outputs": [],
   "source": [
    "class class3(class1,class2):\n",
    "    pass"
   ]
  },
  {
   "cell_type": "code",
   "execution_count": 15,
   "id": "9901ef02-05e3-4875-9a16-bd970c2c8ded",
   "metadata": {},
   "outputs": [],
   "source": [
    "obj3=class3()"
   ]
  },
  {
   "cell_type": "code",
   "execution_count": 16,
   "id": "de586f21-f129-4355-9364-0ae1664f2eda",
   "metadata": {},
   "outputs": [
    {
     "name": "stdout",
     "output_type": "stream",
     "text": [
      "This is Class2\n"
     ]
    }
   ],
   "source": [
    "obj3.class2func()"
   ]
  },
  {
   "cell_type": "markdown",
   "id": "fa679f1a-3875-4113-8696-b6ef160500f5",
   "metadata": {},
   "source": [
    "getter and setter"
   ]
  },
  {
   "cell_type": "code",
   "execution_count": 28,
   "id": "26354335-1ec0-46b3-ab62-87265c8d4c47",
   "metadata": {},
   "outputs": [
    {
     "name": "stdout",
     "output_type": "stream",
     "text": [
      "21\n"
     ]
    }
   ],
   "source": [
    "class iffat:\n",
    "\tdef __init__(self, age = 0):\n",
    "\t\tself.__age = age\n",
    "\t\n",
    "\tdef get_age(self):\n",
    "\t\treturn self.__age\n",
    "\t\n",
    "\tdef set_age(self, x):\n",
    "\t\tself.__age = x\n",
    "\n",
    "raj = iffat()\n",
    "\n",
    "raj.set_age(21)\n",
    "\n",
    "print(raj.get_age())\n"
   ]
  },
  {
   "cell_type": "markdown",
   "id": "998c563e-cbf2-4551-9574-d8b79d585aae",
   "metadata": {},
   "source": []
  },
  {
   "cell_type": "markdown",
   "id": "755c8dfc-daf0-4587-947e-ad95fcb4d23e",
   "metadata": {},
   "source": [
    "method overriding"
   ]
  },
  {
   "cell_type": "code",
   "execution_count": 30,
   "id": "ea3da833-7161-4497-90b2-2a27e45b6084",
   "metadata": {},
   "outputs": [
    {
     "name": "stdout",
     "output_type": "stream",
     "text": [
      "Inside Parent\n",
      "Inside Child\n"
     ]
    }
   ],
   "source": [
    "\n",
    "class Parent():\n",
    "\t\n",
    "\tdef __init__(self):\n",
    "\t\tself.value = \"Inside Parent\"\n",
    "\t\t\n",
    "\tdef show(self):\n",
    "\t\tprint(self.value)\n",
    "\t\t\n",
    "class Child(Parent):\n",
    "\t\n",
    "\tdef __init__(self):\n",
    "\t\tself.value = \"Inside Child\"\n",
    "\t\t\n",
    "\tdef show(self):\n",
    "\t\tprint(self.value)\n",
    "obj1 = Parent()\n",
    "obj2 = Child()\n",
    "\n",
    "obj1.show()\n",
    "obj2.show()\n"
   ]
  },
  {
   "cell_type": "code",
   "execution_count": null,
   "id": "8e146e48-ef3f-4a44-adcd-e1fe9907a334",
   "metadata": {},
   "outputs": [],
   "source": []
  }
 ],
 "metadata": {
  "kernelspec": {
   "display_name": "Python 3 (ipykernel)",
   "language": "python",
   "name": "python3"
  },
  "language_info": {
   "codemirror_mode": {
    "name": "ipython",
    "version": 3
   },
   "file_extension": ".py",
   "mimetype": "text/x-python",
   "name": "python",
   "nbconvert_exporter": "python",
   "pygments_lexer": "ipython3",
   "version": "3.10.8"
  }
 },
 "nbformat": 4,
 "nbformat_minor": 5
}
