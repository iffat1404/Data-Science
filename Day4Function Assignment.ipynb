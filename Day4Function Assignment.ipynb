{
 "cells": [
  {
   "cell_type": "markdown",
   "id": "10160b5c-30c6-41e0-acc9-fd7767a0d721",
   "metadata": {},
   "source": [
    "Q1. Which keyword is used to create a function? Create a function to return a list of odd numbers in the\n",
    "range of 1 to 25."
   ]
  },
  {
   "cell_type": "markdown",
   "id": "61956f7d-218e-4d9d-8dc1-42b176e9b63a",
   "metadata": {},
   "source": [
    "def keyword is used to create a function."
   ]
  },
  {
   "cell_type": "code",
   "execution_count": 2,
   "id": "423399d2-6f25-4471-a927-55b5c795d66a",
   "metadata": {},
   "outputs": [
    {
     "name": "stdout",
     "output_type": "stream",
     "text": [
      "2\n",
      "4\n",
      "6\n",
      "8\n",
      "10\n",
      "12\n",
      "14\n",
      "16\n",
      "18\n",
      "20\n",
      "22\n",
      "24\n"
     ]
    }
   ],
   "source": [
    "for i in range(1,26):\n",
    "    if (i%2)==0:\n",
    "        print(i)\n",
    "        "
   ]
  },
  {
   "cell_type": "markdown",
   "id": "4e6e4739-5999-48f6-a76e-c909fd9698e5",
   "metadata": {},
   "source": [
    "Q2. Why *args and **kwargs is used in some functions? Create a function each for *args and **kwargs to\n",
    "demonstrate their use."
   ]
  },
  {
   "cell_type": "markdown",
   "id": "661f9a58-b328-4bab-8fc0-a2232e4e3b1f",
   "metadata": {},
   "source": [
    "*args is used for taking any number of arguments for a function whereas **kwargs is used for taking the arguements as dictionary(key-value)pair."
   ]
  },
  {
   "cell_type": "code",
   "execution_count": 4,
   "id": "65674f11-20fa-45fe-9d2d-356c1dc956d7",
   "metadata": {},
   "outputs": [],
   "source": [
    "def test3(*args):\n",
    "    return args"
   ]
  },
  {
   "cell_type": "code",
   "execution_count": 5,
   "id": "88b59223-adaa-47f6-abd4-242defe7cabc",
   "metadata": {},
   "outputs": [
    {
     "data": {
      "text/plain": [
       "(8, 90, (90, 8, 'YES'), [9, 8, 'm'], 7, 'OK')"
      ]
     },
     "execution_count": 5,
     "metadata": {},
     "output_type": "execute_result"
    }
   ],
   "source": [
    "test3(8,90,(90,8,\"YES\"),[9,8,\"m\"],7,\"OK\")"
   ]
  },
  {
   "cell_type": "code",
   "execution_count": 6,
   "id": "5c199316-a65c-4dff-8d00-3f452728ecbf",
   "metadata": {},
   "outputs": [],
   "source": [
    "def test5(**kwars):\n",
    "    return kwars"
   ]
  },
  {
   "cell_type": "code",
   "execution_count": 7,
   "id": "7715b8d3-9e83-4351-9ec9-d819bcbc9812",
   "metadata": {},
   "outputs": [
    {
     "data": {
      "text/plain": [
       "{'a': 56, 'b': 90.09, 'c': 'TATA', 'd': [2, 4, 5]}"
      ]
     },
     "execution_count": 7,
     "metadata": {},
     "output_type": "execute_result"
    }
   ],
   "source": [
    "test5(a=56,b=90.09,c=\"TATA\",d=[2,4,5])"
   ]
  },
  {
   "cell_type": "markdown",
   "id": "9755f074-2605-4ab7-8fec-6c268f99f714",
   "metadata": {},
   "source": [
    "What is an iterator in python? Name the method used to initialise the iterator object and the method\n",
    "used for iteration. Use these methods to print the first five elements of the given list [2, 4, 6, 8, 10, 12, 14, 16,\n",
    "18, 20]."
   ]
  },
  {
   "cell_type": "markdown",
   "id": "22acc12a-1c0b-4127-8fb1-989f3fe7da39",
   "metadata": {},
   "source": [
    "an iterator allows sequrntial access to the elements."
   ]
  },
  {
   "cell_type": "code",
   "execution_count": 8,
   "id": "b7a1508a-68da-4ca6-97aa-e7dcc68f7cad",
   "metadata": {},
   "outputs": [],
   "source": [
    "l=[2,4,6,8,10,12,14,16,18,20]"
   ]
  },
  {
   "cell_type": "code",
   "execution_count": 10,
   "id": "d68534c8-afb3-4dad-b6dd-8a5d8dc3a6b6",
   "metadata": {},
   "outputs": [
    {
     "name": "stdout",
     "output_type": "stream",
     "text": [
      "2\n",
      "4\n",
      "6\n",
      "8\n",
      "10\n"
     ]
    }
   ],
   "source": [
    "for i in l:\n",
    "    if i<=10:\n",
    "        print(i)"
   ]
  },
  {
   "cell_type": "markdown",
   "id": "7d639c0b-4fa1-469e-b72f-e77a8bab171d",
   "metadata": {},
   "source": [
    "Q4. What is a generator function in python? Why yield keyword is used? Give an example of a generator\n",
    "function."
   ]
  },
  {
   "cell_type": "markdown",
   "id": "dd1aa838-b668-4219-adcf-cdd957e23483",
   "metadata": {},
   "source": [
    "generator function returns iterator object but instead of using return they use yield keyword"
   ]
  },
  {
   "cell_type": "code",
   "execution_count": 14,
   "id": "6b5cbb82-d39d-4d81-9a11-4bc4b4a7f832",
   "metadata": {},
   "outputs": [],
   "source": [
    "def fib(n):\n",
    "    a,b=0,1\n",
    "    for i in range(n):\n",
    "        yield(a)\n",
    "        a,b=b,a+b"
   ]
  },
  {
   "cell_type": "code",
   "execution_count": 15,
   "id": "04593c87-4083-4d9b-9774-956ca99b1da1",
   "metadata": {},
   "outputs": [
    {
     "name": "stdout",
     "output_type": "stream",
     "text": [
      "0\n",
      "1\n",
      "1\n",
      "2\n",
      "3\n",
      "5\n",
      "8\n",
      "13\n",
      "21\n",
      "34\n"
     ]
    }
   ],
   "source": [
    "for i in fib(10):\n",
    "    print(i)"
   ]
  },
  {
   "cell_type": "markdown",
   "id": "7e6f1175-9997-4e90-a7be-9957a6af772b",
   "metadata": {},
   "source": [
    "Q5. Create a generator function for prime numbers less than 1000. Use the next() method to print the\n",
    "first 20 prime numbers."
   ]
  },
  {
   "cell_type": "code",
   "execution_count": 1,
   "id": "c128f491-4f6f-4df4-bc52-33fd299038c5",
   "metadata": {},
   "outputs": [],
   "source": [
    "def primes():\n",
    "    num = 2\n",
    "    while num < 1000:\n",
    "        is_prime = True\n",
    "        for i in range(2, num):\n",
    "            if num % i == 0:\n",
    "                is_prime = False\n",
    "                break\n",
    "        if is_prime==True:\n",
    "            yield num\n",
    "        num += 1\n"
   ]
  },
  {
   "cell_type": "code",
   "execution_count": 2,
   "id": "e56e8e24-01bc-4f4a-ae59-65704f5f87e9",
   "metadata": {},
   "outputs": [
    {
     "name": "stdout",
     "output_type": "stream",
     "text": [
      "2\n",
      "3\n",
      "5\n",
      "7\n",
      "11\n",
      "13\n",
      "17\n",
      "19\n",
      "23\n",
      "29\n",
      "31\n",
      "37\n",
      "41\n",
      "43\n",
      "47\n",
      "53\n",
      "59\n",
      "61\n",
      "67\n",
      "71\n"
     ]
    }
   ],
   "source": [
    "my_primes = primes()\n",
    "for i in range(20):\n",
    "    print(next(my_primes))"
   ]
  },
  {
   "cell_type": "code",
   "execution_count": null,
   "id": "4f8a4bce-994c-4346-8ac6-b33c9f868e8d",
   "metadata": {},
   "outputs": [],
   "source": []
  },
  {
   "cell_type": "code",
   "execution_count": null,
   "id": "fec4e028-bcf0-4f01-993b-e40248682f66",
   "metadata": {},
   "outputs": [],
   "source": []
  },
  {
   "cell_type": "code",
   "execution_count": null,
   "id": "e69e9f87-611a-4dfa-b823-e7b7aa115511",
   "metadata": {},
   "outputs": [],
   "source": []
  },
  {
   "cell_type": "code",
   "execution_count": null,
   "id": "a5ee9fb6-676c-48a1-920d-411af3f19f8b",
   "metadata": {},
   "outputs": [],
   "source": []
  }
 ],
 "metadata": {
  "kernelspec": {
   "display_name": "Python 3 (ipykernel)",
   "language": "python",
   "name": "python3"
  },
  "language_info": {
   "codemirror_mode": {
    "name": "ipython",
    "version": 3
   },
   "file_extension": ".py",
   "mimetype": "text/x-python",
   "name": "python",
   "nbconvert_exporter": "python",
   "pygments_lexer": "ipython3",
   "version": "3.10.8"
  }
 },
 "nbformat": 4,
 "nbformat_minor": 5
}
