{
 "cells": [
  {
   "cell_type": "markdown",
   "id": "f6735f5b-0057-49a2-8157-047dfe6b6e72",
   "metadata": {},
   "source": [
    "Q1. You are writing code for a company. The requirement of the company is that you create a python\n",
    "function that will check whether the password entered by the user is correct or not. The function should\n",
    "take the password as input and return the string “Valid Password” if the entered password follows the\n",
    "below-given password guidelines else it should return “Invalid Password”.\n",
    "Note: 1. The Password should contain at least two uppercase letters and at least two lowercase letters.\n",
    "2. The Password should contain at least a number and three special characters.\n",
    "3. The length of the password should be 10 characters long."
   ]
  },
  {
   "cell_type": "code",
   "execution_count": 45,
   "id": "b3072cd4-0537-4ae8-a96d-5ec9cac21908",
   "metadata": {},
   "outputs": [],
   "source": [
    "def check(password):\n",
    "    if len(password)!=10:\n",
    "        return \"Invalid Password\"\n",
    "    \n",
    "    upcount=0\n",
    "    lwcount=0\n",
    "    for char in password:\n",
    "        if char.isupper():\n",
    "            upcount +=1\n",
    "        elif char.islower():\n",
    "            lwcount +=1\n",
    "    if upcount<2 or lwcount<2:\n",
    "            return \"Invalid password\"\n",
    "        \n",
    "    dgcount=0\n",
    "    spcount=0\n",
    "    for char in password:\n",
    "        if char.isdigit():\n",
    "            dgcount +=1\n",
    "        if char.isalnum()==False:\n",
    "            spcount +=1\n",
    "    if dgcount==0 or spcount<3:\n",
    "            return \"Invalid password\"\n",
    "        \n",
    "    return \"Valid Password\""
   ]
  },
  {
   "cell_type": "code",
   "execution_count": 46,
   "id": "3c80c081-b574-4ea3-8801-927cb62d07a8",
   "metadata": {},
   "outputs": [
    {
     "name": "stdout",
     "output_type": "stream",
     "text": [
      "Valid Password\n"
     ]
    }
   ],
   "source": [
    "print(check(\"PWskil2&*%\"))"
   ]
  },
  {
   "cell_type": "code",
   "execution_count": 47,
   "id": "5eb16b3f-2e49-48bd-9202-596192bb5a7d",
   "metadata": {},
   "outputs": [
    {
     "name": "stdout",
     "output_type": "stream",
     "text": [
      "Invalid Password\n"
     ]
    }
   ],
   "source": [
    "print(check(\"UHdh364*\"))"
   ]
  },
  {
   "cell_type": "markdown",
   "id": "d9c7288a-4b95-4d77-8ec5-98ede1c0b59c",
   "metadata": {},
   "source": [
    "Q2. Solve the below-given questions using at least one of the following:\n",
    "1. Lambda functioJ\n",
    "2. Filter functioJ\n",
    "3. Zap functioJ\n",
    "4. List Comprehension\n",
    "B Check if the string starts with a particular letter\n",
    "B Check if the string is numeric\n",
    "B Sort a list of tuples having fruit names and their quantity. [(\"mango\",99),(\"orange\",80), (\"grapes\", 1000)]\n",
    "B Find the squares of numbers from 1 to 10\n",
    "B Find the cube root of numbers from 1 to 10\n",
    "B Check if a given number is even\n",
    "B Filter odd numbers from the given list.\n",
    "[1,2,3,4,5,6,7,8,9,10]\n",
    " Sort a list of integers into positive and negative integers lists.\n",
    "[1,2,3,4,5,6,-1,-2,-3,-4,-5,0]"
   ]
  },
  {
   "cell_type": "code",
   "execution_count": 48,
   "id": "459d217a-d521-43aa-8418-ef9a85e722eb",
   "metadata": {},
   "outputs": [
    {
     "name": "stdout",
     "output_type": "stream",
     "text": [
      "[\"Starts with 'H'\", \"Does not start with 'H'\", \"Starts with 'H'\", \"Does not start with 'H'\"]\n"
     ]
    }
   ],
   "source": [
    "my_strings = [\"Hello\", \"World\", \"Hi\", \"Python\"]\n",
    "result = [\"Starts with 'H'\" if s.startswith('H') else \"Does not start with 'H'\" for s in my_strings]\n",
    "print(result)"
   ]
  },
  {
   "cell_type": "code",
   "execution_count": 53,
   "id": "6595fdef-a0e9-4911-abcb-bdf0a5884933",
   "metadata": {},
   "outputs": [
    {
     "data": {
      "text/plain": [
       "True"
      ]
     },
     "execution_count": 53,
     "metadata": {},
     "output_type": "execute_result"
    }
   ],
   "source": [
    "mystring=\"22334\"\n",
    "res=mystring.isnumeric()\n",
    "res"
   ]
  },
  {
   "cell_type": "code",
   "execution_count": 86,
   "id": "2eaa02b0-6b75-4859-aa47-398253b793d6",
   "metadata": {},
   "outputs": [
    {
     "ename": "TypeError",
     "evalue": "'list' object is not callable",
     "output_type": "error",
     "traceback": [
      "\u001b[0;31m---------------------------------------------------------------------------\u001b[0m",
      "\u001b[0;31mTypeError\u001b[0m                                 Traceback (most recent call last)",
      "Cell \u001b[0;32mIn[86], line 5\u001b[0m\n\u001b[1;32m      2\u001b[0m numbers \u001b[38;5;241m=\u001b[39m \u001b[38;5;28mrange\u001b[39m(\u001b[38;5;241m1\u001b[39m, \u001b[38;5;241m11\u001b[39m)\n\u001b[1;32m      4\u001b[0m \u001b[38;5;66;03m# Use map and lambda to find the squares of the numbers\u001b[39;00m\n\u001b[0;32m----> 5\u001b[0m squares \u001b[38;5;241m=\u001b[39m \u001b[38;5;28;43mlist\u001b[39;49m\u001b[43m(\u001b[49m\u001b[38;5;28;43mmap\u001b[39;49m\u001b[43m(\u001b[49m\u001b[38;5;28;43;01mlambda\u001b[39;49;00m\u001b[43m \u001b[49m\u001b[43mx\u001b[49m\u001b[43m:\u001b[49m\u001b[43m \u001b[49m\u001b[43mx\u001b[49m\u001b[38;5;241;43m*\u001b[39;49m\u001b[38;5;241;43m*\u001b[39;49m\u001b[38;5;241;43m2\u001b[39;49m\u001b[43m,\u001b[49m\u001b[43m \u001b[49m\u001b[43mnumbers\u001b[49m\u001b[43m)\u001b[49m\u001b[43m)\u001b[49m\n\u001b[1;32m      7\u001b[0m \u001b[38;5;66;03m# Print the squares\u001b[39;00m\n\u001b[1;32m      8\u001b[0m \u001b[38;5;28mprint\u001b[39m(squares)\n",
      "\u001b[0;31mTypeError\u001b[0m: 'list' object is not callable"
     ]
    }
   ],
   "source": [
    "numbers = range(1, 11)\n",
    "squares = list(map(lambda x: x**2, numbers))\n",
    "print(squares)"
   ]
  },
  {
   "cell_type": "code",
   "execution_count": 82,
   "id": "ccd5017b-c87d-437b-8f2f-7a9e0784e7bd",
   "metadata": {},
   "outputs": [],
   "source": [
    "numbers = range(1, 11)\n",
    "cuberoot = list(map(lambda x: x**(1/3), numbers))\n",
    "print(cuberoot)"
   ]
  },
  {
   "cell_type": "code",
   "execution_count": null,
   "id": "43cbcd0f-9224-4933-b07e-274136093a4f",
   "metadata": {},
   "outputs": [],
   "source": [
    "numbers = range(1, 11)\n",
    "even = list(map(lambda x: if x%2==0, numbers))\n",
    "print(even)"
   ]
  },
  {
   "cell_type": "code",
   "execution_count": null,
   "id": "d52fc8f1-596f-4d97-a327-9596ab4a421a",
   "metadata": {},
   "outputs": [],
   "source": [
    "numbers = range(1, 11)\n",
    "odd = list(filter(lambda x: if x%2!=0, numbers))\n",
    "print(odd)"
   ]
  },
  {
   "cell_type": "code",
   "execution_count": null,
   "id": "5a7901b5-c442-4fc5-93ec-07943dae626b",
   "metadata": {},
   "outputs": [],
   "source": []
  },
  {
   "cell_type": "code",
   "execution_count": null,
   "id": "a0731a9e-6743-43e5-8542-9eb994c0105e",
   "metadata": {},
   "outputs": [],
   "source": []
  },
  {
   "cell_type": "code",
   "execution_count": null,
   "id": "6b847d67-20ae-4dab-b687-1aa710c44fef",
   "metadata": {},
   "outputs": [],
   "source": []
  },
  {
   "cell_type": "code",
   "execution_count": null,
   "id": "a721cac3-0476-4055-8131-59a9d42d0d90",
   "metadata": {},
   "outputs": [],
   "source": []
  }
 ],
 "metadata": {
  "kernelspec": {
   "display_name": "Python 3 (ipykernel)",
   "language": "python",
   "name": "python3"
  },
  "language_info": {
   "codemirror_mode": {
    "name": "ipython",
    "version": 3
   },
   "file_extension": ".py",
   "mimetype": "text/x-python",
   "name": "python",
   "nbconvert_exporter": "python",
   "pygments_lexer": "ipython3",
   "version": "3.10.8"
  }
 },
 "nbformat": 4,
 "nbformat_minor": 5
}
