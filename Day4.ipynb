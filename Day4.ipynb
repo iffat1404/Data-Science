{
 "cells": [
  {
   "cell_type": "code",
   "execution_count": 1,
   "id": "b16983d7-5b11-493b-8214-2df85a183076",
   "metadata": {},
   "outputs": [],
   "source": [
    "def test1():\n",
    "    return 1,5,\"The Hulk\",79.06"
   ]
  },
  {
   "cell_type": "code",
   "execution_count": 2,
   "id": "c46b0f8c-e832-43b2-8bc6-7ef926ec8e07",
   "metadata": {},
   "outputs": [
    {
     "data": {
      "text/plain": [
       "(1, 5, 'The Hulk', 79.06)"
      ]
     },
     "execution_count": 2,
     "metadata": {},
     "output_type": "execute_result"
    }
   ],
   "source": [
    "test1()"
   ]
  },
  {
   "cell_type": "code",
   "execution_count": 4,
   "id": "e0ebe5da-8bc6-434d-9ae6-67cac0cb0827",
   "metadata": {},
   "outputs": [
    {
     "data": {
      "text/plain": [
       "(1, 5, 'The Hulk', 79.06, 'Iffat', 67)"
      ]
     },
     "execution_count": 4,
     "metadata": {},
     "output_type": "execute_result"
    }
   ],
   "source": [
    "test1() + (\"Iffat\",67)"
   ]
  },
  {
   "cell_type": "code",
   "execution_count": 7,
   "id": "4947ac63-3e5e-45d3-ac1b-5aec755daab4",
   "metadata": {},
   "outputs": [
    {
     "data": {
      "text/plain": [
       "79.06"
      ]
     },
     "execution_count": 7,
     "metadata": {},
     "output_type": "execute_result"
    }
   ],
   "source": [
    "test1()[3]"
   ]
  },
  {
   "cell_type": "code",
   "execution_count": 6,
   "id": "4ff2432f-405a-44c0-864b-8760ce849b30",
   "metadata": {},
   "outputs": [],
   "source": [
    "l=[4,5,6,88,90,\"igg\",(899,\"jh\"),[5,9,\"YES\",90]]"
   ]
  },
  {
   "cell_type": "code",
   "execution_count": 5,
   "id": "53e8b010-d5e6-442d-8cc8-641d15294442",
   "metadata": {},
   "outputs": [],
   "source": [
    "def test2(a):\n",
    "    n=[]\n",
    "    for i in a :\n",
    "        if type(i)==list:\n",
    "            for j in i:\n",
    "                if type(j)==int or type(j)==float:\n",
    "                    n.append(j)\n",
    "        else:\n",
    "            if type(i)==int or type(i)==float:\n",
    "                n.append(i)\n",
    "    return n"
   ]
  },
  {
   "cell_type": "code",
   "execution_count": 7,
   "id": "316b2fb6-ec29-4e09-806b-39abacf581d7",
   "metadata": {},
   "outputs": [
    {
     "data": {
      "text/plain": [
       "[4, 5, 6, 88, 90, 5, 9, 90]"
      ]
     },
     "execution_count": 7,
     "metadata": {},
     "output_type": "execute_result"
    }
   ],
   "source": [
    "test2(l)"
   ]
  },
  {
   "cell_type": "code",
   "execution_count": 8,
   "id": "7286fc28-8f74-4214-912d-47b08cb65fd8",
   "metadata": {},
   "outputs": [],
   "source": [
    "def test3(*args):\n",
    "    return args"
   ]
  },
  {
   "cell_type": "code",
   "execution_count": 10,
   "id": "791b47c0-14f8-45ae-aa1b-3d412101cae7",
   "metadata": {},
   "outputs": [
    {
     "data": {
      "text/plain": [
       "(8, 90, (90, 8, 'YES'), [9, 8, 'm'], 7, 'OK')"
      ]
     },
     "execution_count": 10,
     "metadata": {},
     "output_type": "execute_result"
    }
   ],
   "source": [
    "test3(8,90,(90,8,\"YES\"),[9,8,\"m\"],7,\"OK\")"
   ]
  },
  {
   "cell_type": "markdown",
   "id": "e7447418-d7e1-46dc-9ecf-d24a0645ea43",
   "metadata": {},
   "source": [
    "Args is not a keyword but kwargs is"
   ]
  },
  {
   "cell_type": "code",
   "execution_count": 14,
   "id": "b50a7db9-1b90-4f4b-ad61-ed5afc322a40",
   "metadata": {},
   "outputs": [],
   "source": [
    "def test4(*iff,a):\n",
    "    return iff"
   ]
  },
  {
   "cell_type": "code",
   "execution_count": 17,
   "id": "998fc671-a88c-4071-97fe-371533bce861",
   "metadata": {},
   "outputs": [
    {
     "data": {
      "text/plain": [
       "(2, 90)"
      ]
     },
     "execution_count": 17,
     "metadata": {},
     "output_type": "execute_result"
    }
   ],
   "source": [
    "test4(2,90,a=0)"
   ]
  },
  {
   "cell_type": "code",
   "execution_count": 24,
   "id": "d77276cd-1768-4c6b-a2fa-c008ad86e468",
   "metadata": {},
   "outputs": [],
   "source": [
    "def test5(**kwars):\n",
    "    return kwars"
   ]
  },
  {
   "cell_type": "code",
   "execution_count": 25,
   "id": "7b26b360-bab2-4dbb-98a7-84070f1dc240",
   "metadata": {},
   "outputs": [
    {
     "data": {
      "text/plain": [
       "{}"
      ]
     },
     "execution_count": 25,
     "metadata": {},
     "output_type": "execute_result"
    }
   ],
   "source": [
    "test5()"
   ]
  },
  {
   "cell_type": "code",
   "execution_count": 20,
   "id": "110b7ed2-ade6-430a-a1de-77a8649e6dbd",
   "metadata": {},
   "outputs": [
    {
     "data": {
      "text/plain": [
       "dict"
      ]
     },
     "execution_count": 20,
     "metadata": {},
     "output_type": "execute_result"
    }
   ],
   "source": [
    "type(test5())"
   ]
  },
  {
   "cell_type": "code",
   "execution_count": 21,
   "id": "e9faf9c5-50ae-4c35-a642-675da4a5b763",
   "metadata": {},
   "outputs": [
    {
     "data": {
      "text/plain": [
       "{'a': 56, 'b': 90.09, 'c': 'TATA', 'd': [2, 4, 5]}"
      ]
     },
     "execution_count": 21,
     "metadata": {},
     "output_type": "execute_result"
    }
   ],
   "source": [
    "test5(a=56,b=90.09,c=\"TATA\",d=[2,4,5])"
   ]
  },
  {
   "cell_type": "code",
   "execution_count": 26,
   "id": "ddc5402f-75c4-435c-8d07-4e010bc93510",
   "metadata": {},
   "outputs": [],
   "source": [
    "def test6(**kwargs):\n",
    "    for i in kwargs.keys():\n",
    "        if type(kwargs[i])==list:\n",
    "            return i, kwargs[i]"
   ]
  },
  {
   "cell_type": "code",
   "execution_count": 27,
   "id": "e949a38b-e837-4dca-b370-a373b19acc3a",
   "metadata": {},
   "outputs": [
    {
     "data": {
      "text/plain": [
       "('d', [2, 4, 5])"
      ]
     },
     "execution_count": 27,
     "metadata": {},
     "output_type": "execute_result"
    }
   ],
   "source": [
    "test6(a=56,b=90.09,c=\"TATA\",d=[2,4,5])"
   ]
  },
  {
   "cell_type": "code",
   "execution_count": 40,
   "id": "e094efdd-265f-4668-980f-b4b31325c055",
   "metadata": {},
   "outputs": [],
   "source": [
    "def fib(n):\n",
    "    a,b=0,1\n",
    "    for i in range(n):\n",
    "        yield a\n",
    "        a,b=b,a+b"
   ]
  },
  {
   "cell_type": "markdown",
   "id": "897c5bc1-52aa-4b3e-bd91-6f865609b626",
   "metadata": {},
   "source": []
  },
  {
   "cell_type": "code",
   "execution_count": 41,
   "id": "475f33f4-f8c5-4344-8c1d-47c8f54c6420",
   "metadata": {},
   "outputs": [
    {
     "name": "stdout",
     "output_type": "stream",
     "text": [
      "0\n",
      "1\n",
      "1\n",
      "2\n",
      "3\n",
      "5\n",
      "8\n",
      "13\n",
      "21\n",
      "34\n"
     ]
    }
   ],
   "source": [
    "for i in fib(10):\n",
    "    print(i)"
   ]
  },
  {
   "cell_type": "code",
   "execution_count": null,
   "id": "8cd07874-378e-4365-a051-92567adc595c",
   "metadata": {},
   "outputs": [],
   "source": []
  }
 ],
 "metadata": {
  "kernelspec": {
   "display_name": "Python 3 (ipykernel)",
   "language": "python",
   "name": "python3"
  },
  "language_info": {
   "codemirror_mode": {
    "name": "ipython",
    "version": 3
   },
   "file_extension": ".py",
   "mimetype": "text/x-python",
   "name": "python",
   "nbconvert_exporter": "python",
   "pygments_lexer": "ipython3",
   "version": "3.10.8"
  }
 },
 "nbformat": 4,
 "nbformat_minor": 5
}
